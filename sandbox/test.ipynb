{
 "cells": [
  {
   "cell_type": "code",
   "execution_count": null,
   "id": "726a5313",
   "metadata": {},
   "outputs": [],
   "source": [
    "import requests\n",
    "from datetime import datetime, timedelta, timezone\n",
    "\n",
    "# === Configuration ===\n",
    "API_KEY = \"eyJvcmciOiI1ZTU1NGUxOTI3NGE5NjAwMDEyYTNlYjEiLCJpZCI6IjdiYjVkMjVlMjhmMDQ0ZmQ5ZGZiYmFiMDI5YmIzMGU3IiwiaCI6Im11cm11cjEyOCJ9\"  # Replace with your real KNMI API key\n",
    "BASE_URL = \"https://api.dataplatform.knmi.nl/edr/v1\"\n",
    "COLLECTION = \"10-minute-in-situ-meteorological-observations\"\n",
    "station_id = \"0-20000-0-06203\"\n",
    "\n",
    "# === Time window: last 30 minutes ===\n",
    "def valid_datetime_input(timepoint: datetime):\n",
    "    return timepoint.isoformat(timespec=\"seconds\").replace(\"+00:00\", \"Z\")\n",
    "\n",
    "\n",
    "now = datetime.now(timezone.utc)\n",
    "start = now - timedelta(minutes=30)\n",
    "time_range = f\"{valid_datetime_input(start)}/{valid_datetime_input(now)}\"\n",
    "now = valid_datetime_input(now)\n",
    "\n",
    "print(time_range)\n",
    "# === API request ===\n",
    "params = {\n",
    "    \"datetime\": f\"P1D/{time_range}\",\n",
    "    \"parameter-name\": \"air_pressure_at_sea_level\",\n",
    "    \"crs\": \"EPSG:4326\"\n",
    "}\n",
    "\n",
    "headers = {\n",
    "    \"Authorization\": API_KEY\n",
    "}\n",
    "\n",
    "\n",
    "# List available collections to verify the collection name\n",
    "response = requests.get(\n",
    "    f\"{BASE_URL}/collections/{COLLECTION}/locations/{station_id}\",\n",
    "    headers=headers,\n",
    "    params=params,\n",
    ")\n",
    "response.raise_for_status()\n",
    "data = response.json()\n",
    "\n",
    "data\n"
   ]
  },
  {
   "cell_type": "code",
   "execution_count": null,
   "id": "05ad1608",
   "metadata": {},
   "outputs": [],
   "source": [
    "features = data.get(\"features\", [])\n",
    "if not features:\n",
    "    print(\"No data found.\")\n",
    "else:\n",
    "    print(f\"Found {len(features)} measurements for air pressure.\\n\")\n",
    "    for f in features:\n",
    "        station = f.get(\"id\")\n",
    "        coords = f.get(\"geometry\", {}).get(\"coordinates\", [])\n",
    "        props = f.get(\"properties\", {})\n",
    "        time = props.get(\"datetime\")\n",
    "\n",
    "        pressure_obj = props.get(\"parameter\", {}).get(\"air_pressure_at_sea_level\")\n",
    "        pressure = pressure_obj.get(\"value\") if pressure_obj else None\n",
    "\n",
    "        print(f\"Station: {station}\")\n",
    "        print(f\"  Time: {time}\")\n",
    "        print(f\"  Pressure: {pressure} hPa\")\n",
    "        print(f\"  Location (lon, lat): {coords[:2]}\")\n",
    "        print(\"-\" * 30)\n"
   ]
  },
  {
   "cell_type": "code",
   "execution_count": null,
   "id": "3c5d2b7d",
   "metadata": {},
   "outputs": [],
   "source": [
    "import json\n",
    "print(json.dumps(data[\"features\"][0], indent=2))"
   ]
  }
 ],
 "metadata": {
  "kernelspec": {
   "display_name": "knmi_app",
   "language": "python",
   "name": "python3"
  },
  "language_info": {
   "codemirror_mode": {
    "name": "ipython",
    "version": 3
   },
   "file_extension": ".py",
   "mimetype": "text/x-python",
   "name": "python",
   "nbconvert_exporter": "python",
   "pygments_lexer": "ipython3",
   "version": "3.11.13"
  }
 },
 "nbformat": 4,
 "nbformat_minor": 5
}
