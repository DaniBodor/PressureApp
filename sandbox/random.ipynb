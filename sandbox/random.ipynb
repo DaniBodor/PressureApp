{
 "cells": [
  {
   "cell_type": "code",
   "execution_count": 1,
   "id": "558361ed",
   "metadata": {},
   "outputs": [
    {
     "data": {
      "text/plain": [
       "datetime.datetime(2025, 7, 6, 12, 24, 28, 192493)"
      ]
     },
     "execution_count": 1,
     "metadata": {},
     "output_type": "execute_result"
    }
   ],
   "source": [
    "import datetime\n",
    "\n",
    "datetime.datetime.now()"
   ]
  },
  {
   "cell_type": "code",
   "execution_count": null,
   "id": "a487d5e9",
   "metadata": {},
   "outputs": [],
   "source": [
    "from knmy import knmy\n",
    "from pprint import pprint\n",
    "\n",
    "disclaimer, stations, variables, data = knmy.get_hourly_data(stations=[209], start=2015010108, end=2015010208, inseason=True, parse=True)\n"
   ]
  },
  {
   "cell_type": "code",
   "execution_count": null,
   "id": "b961c9fb",
   "metadata": {},
   "outputs": [
    {
     "name": "stdout",
     "output_type": "stream",
     "text": [
      "   STN  YYYYMMDD  HH   DD   FH   FF   FX   T  T10N  TD  ...  VV   N   U  WW  \\\n",
      "0  209  20150101   8  210  110  110  140 NaN   NaN NaN  ... NaN NaN NaN NaN   \n",
      "1  209  20150102   8  290  130  140  180 NaN   NaN NaN  ... NaN NaN NaN NaN   \n",
      "\n",
      "   IX   M   R   S   O   Y  \n",
      "0   6 NaN NaN NaN NaN NaN  \n",
      "1   6 NaN NaN NaN NaN NaN  \n",
      "\n",
      "[2 rows x 25 columns]\n"
     ]
    }
   ],
   "source": [
    "pprint(data)"
   ]
  },
  {
   "cell_type": "code",
   "execution_count": 63,
   "id": "dc098086",
   "metadata": {},
   "outputs": [
    {
     "name": "stdout",
     "output_type": "stream",
     "text": [
      "             STN      P\n",
      "YYYYMMDD_HH            \n",
      "2024-07-06   240  10020\n"
     ]
    }
   ],
   "source": [
    "import knmi\n",
    "# import pandas\n",
    "\n",
    "hourly_df = knmi.get_hour_data_dataframe(\n",
    "    stations=[240],\n",
    "    start=\"2024070601\",\n",
    "    end=\"2024070601\",\n",
    "    variables=[\"P\"],\n",
    ")\n",
    "# print(\"\\nHourly Data:\")\n",
    "# print(hourly_df)\n",
    "# print(hourly_df[\"P\"].values[0])\n",
    "print(hourly_df)"
   ]
  },
  {
   "cell_type": "code",
   "execution_count": 54,
   "id": "950ca0fd",
   "metadata": {},
   "outputs": [
    {
     "data": {
      "text/plain": [
       "'2025070614'"
      ]
     },
     "execution_count": 54,
     "metadata": {},
     "output_type": "execute_result"
    }
   ],
   "source": [
    "import datetime\n",
    "def get_time():\n",
    "    current_time = datetime.datetime.now()\n",
    "    return current_time.strftime(\"%Y%m%d%H\") # formatted as YYYYMMDDHH\n",
    "\n",
    "get_time()"
   ]
  },
  {
   "cell_type": "code",
   "execution_count": 46,
   "id": "546b2833",
   "metadata": {},
   "outputs": [
    {
     "name": "stdout",
     "output_type": "stream",
     "text": [
      "fsdkj\n"
     ]
    }
   ],
   "source": [
    "from geopy.geocoders import Nominatim\n",
    "from geopy.distance import geodesic\n",
    "\n",
    "city_name = \"Trier\"\n",
    "\n",
    "geolocator = Nominatim(user_agent=\"knmi_city_lookup\")\n",
    "\n",
    "location = geolocator.geocode(city_name, featuretype=\"city\")\n",
    "location = geolocator.geocode(city_name, country_codes=\"nl\", featuretype=\"city\")\n",
    "\n",
    "# location = geolocator.geocode(city_name, featuretype=\"city\")\n",
    "\n",
    "# location.address\n",
    "\n",
    "if not location:\n",
    "    print(\"fsdkj\")\n",
    "else:\n",
    "    print(location)"
   ]
  },
  {
   "cell_type": "code",
   "execution_count": 4,
   "id": "05233456",
   "metadata": {},
   "outputs": [
    {
     "data": {
      "text/plain": [
       "{209: Station(number=209, longitude=4.518, latitude=52.465, altitude=0.0, name='IJMOND'),\n",
       " 210: Station(number=210, longitude=4.43, latitude=52.171, altitude=-0.2, name='VALKENBURG'),\n",
       " 215: Station(number=215, longitude=4.437, latitude=52.141, altitude=-1.1, name='VOORSCHOTEN'),\n",
       " 225: Station(number=225, longitude=4.555, latitude=52.463, altitude=4.4, name='IJMUIDEN'),\n",
       " 235: Station(number=235, longitude=4.781, latitude=52.928, altitude=1.2, name='DE KOOY'),\n",
       " 240: Station(number=240, longitude=4.79, latitude=52.318, altitude=-3.3, name='SCHIPHOL'),\n",
       " 242: Station(number=242, longitude=4.921, latitude=53.241, altitude=10.8, name='VLIELAND'),\n",
       " 248: Station(number=248, longitude=5.174, latitude=52.634, altitude=0.8, name='WIJDENES'),\n",
       " 249: Station(number=249, longitude=4.979, latitude=52.644, altitude=-2.4, name='BERKHOUT'),\n",
       " 251: Station(number=251, longitude=5.346, latitude=53.392, altitude=0.7, name='HOORN (TERSCHELLING)'),\n",
       " 257: Station(number=257, longitude=4.603, latitude=52.506, altitude=8.5, name='WIJK AAN ZEE'),\n",
       " 258: Station(number=258, longitude=5.401, latitude=52.649, altitude=7.3, name='HOUTRIBDIJK'),\n",
       " 260: Station(number=260, longitude=5.18, latitude=52.1, altitude=1.9, name='DE BILT'),\n",
       " 265: Station(number=265, longitude=5.274, latitude=52.13, altitude=13.9, name='SOESTERBERG'),\n",
       " 267: Station(number=267, longitude=5.384, latitude=52.898, altitude=-1.3, name='STAVOREN'),\n",
       " 269: Station(number=269, longitude=5.52, latitude=52.458, altitude=-3.7, name='LELYSTAD'),\n",
       " 270: Station(number=270, longitude=5.752, latitude=53.224, altitude=1.2, name='LEEUWARDEN'),\n",
       " 273: Station(number=273, longitude=5.888, latitude=52.703, altitude=-3.3, name='MARKNESSE'),\n",
       " 275: Station(number=275, longitude=5.873, latitude=52.056, altitude=48.2, name='DEELEN'),\n",
       " 277: Station(number=277, longitude=6.2, latitude=53.413, altitude=2.9, name='LAUWERSOOG'),\n",
       " 278: Station(number=278, longitude=6.259, latitude=52.435, altitude=3.6, name='HEINO'),\n",
       " 279: Station(number=279, longitude=6.574, latitude=52.75, altitude=15.8, name='HOOGEVEEN'),\n",
       " 280: Station(number=280, longitude=6.585, latitude=53.125, altitude=5.2, name='EELDE'),\n",
       " 283: Station(number=283, longitude=6.657, latitude=52.069, altitude=29.1, name='HUPSEL'),\n",
       " 285: Station(number=285, longitude=6.399, latitude=53.575, altitude=0.0, name='HUIBERTGAT'),\n",
       " 286: Station(number=286, longitude=7.15, latitude=53.196, altitude=-0.2, name='NIEUW BEERTA'),\n",
       " 290: Station(number=290, longitude=6.891, latitude=52.274, altitude=34.8, name='TWENTHE'),\n",
       " 308: Station(number=308, longitude=3.379, latitude=51.381, altitude=0.0, name='CADZAND'),\n",
       " 310: Station(number=310, longitude=3.596, latitude=51.442, altitude=8.0, name='VLISSINGEN'),\n",
       " 311: Station(number=311, longitude=3.672, latitude=51.379, altitude=0.0, name='HOOFDPLAAT'),\n",
       " 312: Station(number=312, longitude=3.622, latitude=51.768, altitude=0.0, name='OOSTERSCHELDE'),\n",
       " 313: Station(number=313, longitude=3.242, latitude=51.505, altitude=0.0, name='VLAKTE V.D. RAAN'),\n",
       " 315: Station(number=315, longitude=3.998, latitude=51.447, altitude=0.0, name='HANSWEERT'),\n",
       " 316: Station(number=316, longitude=3.694, latitude=51.657, altitude=0.0, name='SCHAAR'),\n",
       " 319: Station(number=319, longitude=3.861, latitude=51.226, altitude=1.7, name='WESTDORPE'),\n",
       " 323: Station(number=323, longitude=3.884, latitude=51.527, altitude=1.4, name='WILHELMINADORP'),\n",
       " 324: Station(number=324, longitude=4.006, latitude=51.596, altitude=0.0, name='STAVENISSE'),\n",
       " 330: Station(number=330, longitude=4.122, latitude=51.992, altitude=11.9, name='HOEK VAN HOLLAND'),\n",
       " 331: Station(number=331, longitude=4.193, latitude=51.48, altitude=0.0, name='THOLEN'),\n",
       " 340: Station(number=340, longitude=4.342, latitude=51.449, altitude=19.2, name='WOENSDRECHT'),\n",
       " 343: Station(number=343, longitude=4.313, latitude=51.893, altitude=3.5, name=\"R'DAM-GEULHAVEN\"),\n",
       " 344: Station(number=344, longitude=4.447, latitude=51.962, altitude=-4.3, name='ROTTERDAM'),\n",
       " 348: Station(number=348, longitude=4.926, latitude=51.97, altitude=-0.7, name='CABAUW'),\n",
       " 350: Station(number=350, longitude=4.936, latitude=51.566, altitude=14.9, name='GILZE-RIJEN'),\n",
       " 356: Station(number=356, longitude=5.146, latitude=51.859, altitude=0.7, name='HERWIJNEN'),\n",
       " 370: Station(number=370, longitude=5.377, latitude=51.451, altitude=22.6, name='EINDHOVEN'),\n",
       " 375: Station(number=375, longitude=5.707, latitude=51.659, altitude=22.0, name='VOLKEL'),\n",
       " 377: Station(number=377, longitude=5.763, latitude=51.198, altitude=30.0, name='ELL'),\n",
       " 380: Station(number=380, longitude=5.762, latitude=50.906, altitude=114.3, name='MAASTRICHT'),\n",
       " 391: Station(number=391, longitude=6.197, latitude=51.498, altitude=19.5, name='ARCEN')}"
      ]
     },
     "execution_count": 4,
     "metadata": {},
     "output_type": "execute_result"
    }
   ],
   "source": [
    "import knmi\n",
    "\n",
    "knmi.stations"
   ]
  },
  {
   "cell_type": "code",
   "execution_count": null,
   "id": "ee71a8f4",
   "metadata": {},
   "outputs": [
    {
     "name": "stdout",
     "output_type": "stream",
     "text": [
      "{'0-20000-0-06201': [2.9358, 54.3256],\n",
      " '0-20000-0-06203': [3.3417, 52.36],\n",
      " '0-20000-0-06204': [3.6278, 53.2694],\n",
      " '0-20000-0-06205': [3.8103, 55.3992],\n",
      " '0-20000-0-06206': [4.0122, 54.1167],\n",
      " '0-20000-0-06207': [4.9603, 53.6144],\n",
      " '0-20000-0-06208': [5.9417, 53.4917],\n",
      " '0-20000-0-06209': [4.5175, 52.4636],\n",
      " '0-20000-0-06210': [4.4294, 52.1703],\n",
      " '0-20000-0-06211': [2.9453, 53.8242],\n",
      " '0-20000-0-06212': [4.1503, 52.9181],\n",
      " '0-20000-0-06214': [6.0417, 54.0369],\n",
      " '0-20000-0-06215': [4.4364, 52.1397],\n",
      " '0-20000-0-06225': [4.555, 52.4622],\n",
      " '0-20000-0-06229': [4.72, 52.995],\n",
      " '0-20000-0-06235': [4.7811, 52.9269],\n",
      " '0-20000-0-06239': [4.6961, 54.8539],\n",
      " '0-20000-0-06240': [4.7897, 52.3172],\n",
      " '0-20000-0-06242': [4.9208, 53.24],\n",
      " '0-20000-0-06248': [5.1736, 52.6325],\n",
      " '0-20000-0-06249': [4.9789, 52.6428],\n",
      " '0-20000-0-06251': [5.3458, 53.3911],\n",
      " '0-20000-0-06252': [3.2203, 53.2178],\n",
      " '0-20000-0-06257': [4.6031, 52.5053],\n",
      " '0-20000-0-06258': [5.4006, 52.6481],\n",
      " '0-20000-0-06260': [5.1797, 52.0989],\n",
      " '0-20000-0-06265': [5.2731, 52.1289],\n",
      " '0-20000-0-06267': [5.3833, 52.8967],\n",
      " '0-20000-0-06269': [5.5081, 52.4483],\n",
      " '0-20000-0-06270': [5.7517, 53.2231],\n",
      " '0-20000-0-06273': [5.8875, 52.7019],\n",
      " '0-20000-0-06275': [5.8722, 52.0547],\n",
      " '0-20000-0-06277': [6.1992, 53.4117],\n",
      " '0-20000-0-06278': [6.2589, 52.4344],\n",
      " '0-20000-0-06279': [6.5731, 52.7489],\n",
      " '0-20000-0-06280': [6.5847, 53.1236],\n",
      " '0-20000-0-06283': [6.6567, 52.0678],\n",
      " '0-20000-0-06285': [6.3983, 53.5739],\n",
      " '0-20000-0-06286': [7.1492, 53.1944],\n",
      " '0-20000-0-06290': [6.8908, 52.2731],\n",
      " '0-20000-0-06308': [3.3792, 51.38],\n",
      " '0-20000-0-06310': [3.5958, 51.4414],\n",
      " '0-20000-0-06311': [3.6719, 51.3789],\n",
      " '0-20000-0-06312': [3.6217, 51.7667],\n",
      " '0-20000-0-06313': [3.2419, 51.5036],\n",
      " '0-20000-0-06315': [3.9975, 51.4458],\n",
      " '0-20000-0-06316': [3.6939, 51.6558],\n",
      " '0-20000-0-06319': [3.8611, 51.2247],\n",
      " '0-20000-0-06320': [3.67, 51.9258],\n",
      " '0-20000-0-06321': [3.275, 51.9978],\n",
      " '0-20000-0-06323': [3.8836, 51.5258],\n",
      " '0-20000-0-06324': [4.0061, 51.5956],\n",
      " '0-20000-0-06330': [4.1217, 51.9911],\n",
      " '0-20000-0-06331': [4.1925, 51.4786],\n",
      " '0-20000-0-06340': [4.3419, 51.4478],\n",
      " '0-20000-0-06343': [4.3125, 51.8919],\n",
      " '0-20000-0-06344': [4.4469, 51.9606],\n",
      " '0-20000-0-06348': [4.9258, 51.9692],\n",
      " '0-20000-0-06350': [4.9353, 51.565],\n",
      " '0-20000-0-06356': [5.1453, 51.8578],\n",
      " '0-20000-0-06370': [5.3769, 51.4497],\n",
      " '0-20000-0-06375': [5.7067, 51.6586],\n",
      " '0-20000-0-06377': [5.7625, 51.1967],\n",
      " '0-20000-0-06380': [5.7619, 50.9053],\n",
      " '0-20000-0-06391': [6.1961, 51.4972],\n",
      " '0-20000-0-78871': [-63.2208, 17.6461],\n",
      " '0-20000-0-78873': [-62.9828, 17.4956],\n",
      " '0-20000-0-78990': [-68.2758, 12.13],\n",
      " '0-528-0-06213': [4.2933, 52.6978],\n",
      " '0-528-0-06216': [4.0422, 52.3194],\n",
      " '0-528-0-06218': [3.8044, 52.6797],\n",
      " '0-528-0-06233': [4.7258, 52.4819],\n",
      " '0-528-0-06236': [5.0922, 52.3353],\n",
      " '0-528-0-06237': [4.6478, 52.255],\n",
      " '0-528-0-06238': [4.765, 52.1514],\n",
      " '0-528-0-06317': [3.0567, 51.7],\n",
      " '0-528-0-06392': [6.0561, 51.4869]}\n"
     ]
    }
   ],
   "source": [
    "import sys\n",
    "import requests\n",
    "from datetime import datetime, timezone\n",
    "\n",
    "api_version = \"v1\"\n",
    "collection = \"10-minute-in-situ-meteorological-observations\"\n",
    "base_url = f\"https://api.dataplatform.knmi.nl/edr/{api_version}/collections/{collection}\"\n",
    "token = \"eyJvcmciOiI1ZTU1NGUxOTI3NGE5NjAwMDEyYTNlYjEiLCJpZCI6IjdiYjVkMjVlMjhmMDQ0ZmQ5ZGZiYmFiMDI5YmIzMGU3IiwiaCI6Im11cm11cjEyOCJ9\"\n",
    "headers = {\"Authorization\": token}\n",
    "\n",
    "\n",
    "def metadata():\n",
    "    r = requests.get(base_url, headers=headers)\n",
    "    r.raise_for_status()\n",
    "    return r.json()\n",
    "\n",
    "\n",
    "def locations():\n",
    "    r = requests.get(f\"{base_url}/locations\", headers=headers)\n",
    "    r.raise_for_status()\n",
    "    stations_json = r.json()\n",
    "\n",
    "    # Transform to dict with id as key and coordinates as value\n",
    "    stations_dict = {}\n",
    "    for feature in stations_json['features']:\n",
    "        station_id = feature['id']\n",
    "        coordinates = feature['geometry']['coordinates']\n",
    "        stations_dict[station_id] = coordinates\n",
    "\n",
    "    return stations_dict\n",
    "\n",
    "stations = locations()\n",
    "\n",
    "from pprint import pprint\n",
    "\n",
    "pprint(stations)"
   ]
  },
  {
   "cell_type": "code",
   "execution_count": 7,
   "id": "21acc2df",
   "metadata": {},
   "outputs": [
    {
     "name": "stdout",
     "output_type": "stream",
     "text": [
      "{'0-20000-0-06201': [2.9358, 54.3256],\n",
      " '0-20000-0-06203': [3.3417, 52.36],\n",
      " '0-20000-0-06204': [3.6278, 53.2694]}\n"
     ]
    }
   ],
   "source": [
    "# Option 1: Using pandas json_normalize (most elegant for this case)\n",
    "import pandas as pd\n",
    "\n",
    "def locations_pandas():\n",
    "    r = requests.get(f\"{base_url}/locations\", headers=headers)\n",
    "    r.raise_for_status()\n",
    "    data = r.json()\n",
    "\n",
    "    # Flatten the nested JSON structure\n",
    "    df = pd.json_normalize(data['features'])\n",
    "    # Create dict from id and coordinates columns\n",
    "    return dict(zip(df['id'], df['geometry.coordinates']))\n",
    "\n",
    "# Test the pandas version\n",
    "stations_pandas = locations_pandas()\n",
    "pprint(dict(list(stations_pandas.items())[:3]))  # Show first 3 items"
   ]
  }
 ],
 "metadata": {
  "kernelspec": {
   "display_name": "knmi_app",
   "language": "python",
   "name": "python3"
  },
  "language_info": {
   "codemirror_mode": {
    "name": "ipython",
    "version": 3
   },
   "file_extension": ".py",
   "mimetype": "text/x-python",
   "name": "python",
   "nbconvert_exporter": "python",
   "pygments_lexer": "ipython3",
   "version": "3.11.13"
  }
 },
 "nbformat": 4,
 "nbformat_minor": 5
}
