{
 "cells": [
  {
   "cell_type": "code",
   "execution_count": 1,
   "id": "558361ed",
   "metadata": {},
   "outputs": [
    {
     "data": {
      "text/plain": [
       "datetime.datetime(2025, 7, 6, 12, 24, 28, 192493)"
      ]
     },
     "execution_count": 1,
     "metadata": {},
     "output_type": "execute_result"
    }
   ],
   "source": [
    "import datetime\n",
    "\n",
    "datetime.datetime.now()"
   ]
  },
  {
   "cell_type": "code",
   "execution_count": null,
   "id": "a487d5e9",
   "metadata": {},
   "outputs": [],
   "source": [
    "from knmy import knmy\n",
    "from pprint import pprint\n",
    "\n",
    "disclaimer, stations, variables, data = knmy.get_hourly_data(stations=[209], start=2015010108, end=2015010208, inseason=True, parse=True)\n"
   ]
  },
  {
   "cell_type": "code",
   "execution_count": null,
   "id": "b961c9fb",
   "metadata": {},
   "outputs": [
    {
     "name": "stdout",
     "output_type": "stream",
     "text": [
      "   STN  YYYYMMDD  HH   DD   FH   FF   FX   T  T10N  TD  ...  VV   N   U  WW  \\\n",
      "0  209  20150101   8  210  110  110  140 NaN   NaN NaN  ... NaN NaN NaN NaN   \n",
      "1  209  20150102   8  290  130  140  180 NaN   NaN NaN  ... NaN NaN NaN NaN   \n",
      "\n",
      "   IX   M   R   S   O   Y  \n",
      "0   6 NaN NaN NaN NaN NaN  \n",
      "1   6 NaN NaN NaN NaN NaN  \n",
      "\n",
      "[2 rows x 25 columns]\n"
     ]
    }
   ],
   "source": [
    "pprint(data)"
   ]
  },
  {
   "cell_type": "code",
   "execution_count": 63,
   "id": "dc098086",
   "metadata": {},
   "outputs": [
    {
     "name": "stdout",
     "output_type": "stream",
     "text": [
      "             STN      P\n",
      "YYYYMMDD_HH            \n",
      "2024-07-06   240  10020\n"
     ]
    }
   ],
   "source": [
    "import knmi\n",
    "# import pandas\n",
    "\n",
    "hourly_df = knmi.get_hour_data_dataframe(\n",
    "    stations=[240],\n",
    "    start=\"2024070601\",\n",
    "    end=\"2024070601\",\n",
    "    variables=[\"P\"],\n",
    ")\n",
    "# print(\"\\nHourly Data:\")\n",
    "# print(hourly_df)\n",
    "# print(hourly_df[\"P\"].values[0])\n",
    "print(hourly_df)"
   ]
  },
  {
   "cell_type": "code",
   "execution_count": 54,
   "id": "950ca0fd",
   "metadata": {},
   "outputs": [
    {
     "data": {
      "text/plain": [
       "'2025070614'"
      ]
     },
     "execution_count": 54,
     "metadata": {},
     "output_type": "execute_result"
    }
   ],
   "source": [
    "import datetime\n",
    "def get_time():\n",
    "    current_time = datetime.datetime.now()\n",
    "    return current_time.strftime(\"%Y%m%d%H\") # formatted as YYYYMMDDHH\n",
    "\n",
    "get_time()"
   ]
  },
  {
   "cell_type": "code",
   "execution_count": 46,
   "id": "546b2833",
   "metadata": {},
   "outputs": [
    {
     "name": "stdout",
     "output_type": "stream",
     "text": [
      "fsdkj\n"
     ]
    }
   ],
   "source": [
    "from geopy.geocoders import Nominatim\n",
    "from geopy.distance import geodesic\n",
    "\n",
    "city_name = \"Trier\"\n",
    "\n",
    "geolocator = Nominatim(user_agent=\"knmi_city_lookup\")\n",
    "\n",
    "location = geolocator.geocode(city_name, featuretype=\"city\")\n",
    "location = geolocator.geocode(city_name, country_codes=\"nl\", featuretype=\"city\")\n",
    "\n",
    "# location = geolocator.geocode(city_name, featuretype=\"city\")\n",
    "\n",
    "# location.address\n",
    "\n",
    "if not location:\n",
    "    print(\"fsdkj\")\n",
    "else:\n",
    "    print(location)"
   ]
  }
 ],
 "metadata": {
  "kernelspec": {
   "display_name": "knmi_app",
   "language": "python",
   "name": "python3"
  },
  "language_info": {
   "codemirror_mode": {
    "name": "ipython",
    "version": 3
   },
   "file_extension": ".py",
   "mimetype": "text/x-python",
   "name": "python",
   "nbconvert_exporter": "python",
   "pygments_lexer": "ipython3",
   "version": "3.11.13"
  }
 },
 "nbformat": 4,
 "nbformat_minor": 5
}
