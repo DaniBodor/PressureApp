{
 "cells": [
  {
   "cell_type": "code",
   "execution_count": null,
   "id": "558361ed",
   "metadata": {},
   "outputs": [],
   "source": [
    "import datetime\n",
    "\n",
    "datetime.datetime.now()"
   ]
  },
  {
   "cell_type": "code",
   "execution_count": null,
   "id": "a487d5e9",
   "metadata": {},
   "outputs": [],
   "source": [
    "from knmy import knmy\n",
    "from pprint import pprint\n",
    "\n",
    "disclaimer, stations, variables, data = knmy.get_hourly_data(stations=[209], start=2015010108, end=2015010208, inseason=True, parse=True)\n"
   ]
  },
  {
   "cell_type": "code",
   "execution_count": null,
   "id": "b961c9fb",
   "metadata": {},
   "outputs": [],
   "source": [
    "pprint(data)"
   ]
  },
  {
   "cell_type": "code",
   "execution_count": null,
   "id": "dc098086",
   "metadata": {},
   "outputs": [],
   "source": [
    "import knmi\n",
    "# import pandas\n",
    "\n",
    "hourly_df = knmi.get_hour_data_dataframe(\n",
    "    stations=[240],\n",
    "    start=\"2024070601\",\n",
    "    end=\"2024070601\",\n",
    "    variables=[\"P\"],\n",
    ")\n",
    "# print(\"\\nHourly Data:\")\n",
    "# print(hourly_df)\n",
    "# print(hourly_df[\"P\"].values[0])\n",
    "print(hourly_df)"
   ]
  },
  {
   "cell_type": "code",
   "execution_count": null,
   "id": "950ca0fd",
   "metadata": {},
   "outputs": [],
   "source": [
    "import datetime\n",
    "def get_time():\n",
    "    current_time = datetime.datetime.now()\n",
    "    return current_time.strftime(\"%Y%m%d%H\") # formatted as YYYYMMDDHH\n",
    "\n",
    "get_time()"
   ]
  },
  {
   "cell_type": "code",
   "execution_count": null,
   "id": "546b2833",
   "metadata": {},
   "outputs": [],
   "source": [
    "from geopy.geocoders import Nominatim\n",
    "from geopy.distance import geodesic\n",
    "\n",
    "city_name = \"Trier\"\n",
    "\n",
    "geolocator = Nominatim(user_agent=\"knmi_city_lookup\")\n",
    "\n",
    "location = geolocator.geocode(city_name, featuretype=\"city\")\n",
    "location = geolocator.geocode(city_name, country_codes=\"nl\", featuretype=\"city\")\n",
    "\n",
    "# location = geolocator.geocode(city_name, featuretype=\"city\")\n",
    "\n",
    "# location.address\n",
    "\n",
    "if not location:\n",
    "    print(\"fsdkj\")\n",
    "else:\n",
    "    print(location)"
   ]
  },
  {
   "cell_type": "code",
   "execution_count": null,
   "id": "05233456",
   "metadata": {},
   "outputs": [],
   "source": [
    "import knmi\n",
    "\n",
    "knmi.stations"
   ]
  },
  {
   "cell_type": "code",
   "execution_count": null,
   "id": "ee71a8f4",
   "metadata": {},
   "outputs": [],
   "source": [
    "import sys\n",
    "import requests\n",
    "from datetime import datetime, timezone\n",
    "\n",
    "api_version = \"v1\"\n",
    "collection = \"10-minute-in-situ-meteorological-observations\"\n",
    "base_url = f\"https://api.dataplatform.knmi.nl/edr/{api_version}/collections/{collection}\"\n",
    "token = \"eyJvcmciOiI1ZTU1NGUxOTI3NGE5NjAwMDEyYTNlYjEiLCJpZCI6IjdiYjVkMjVlMjhmMDQ0ZmQ5ZGZiYmFiMDI5YmIzMGU3IiwiaCI6Im11cm11cjEyOCJ9\"\n",
    "headers = {\"Authorization\": token}\n",
    "\n",
    "\n",
    "def metadata():\n",
    "    r = requests.get(base_url, headers=headers)\n",
    "    r.raise_for_status()\n",
    "    return r.json()\n",
    "\n",
    "\n",
    "def locations():\n",
    "    r = requests.get(f\"{base_url}/locations\", headers=headers)\n",
    "    r.raise_for_status()\n",
    "    stations_json = r.json()\n",
    "\n",
    "    # Transform to dict with id as key and coordinates as value\n",
    "    stations_dict = {}\n",
    "    for feature in stations_json['features']:\n",
    "        station_id = feature['id']\n",
    "        coordinates = feature['geometry']['coordinates']\n",
    "        stations_dict[station_id] = coordinates\n",
    "\n",
    "    return stations_dict\n",
    "\n",
    "stations = locations()\n",
    "\n",
    "from pprint import pprint\n",
    "\n",
    "pprint(stations)"
   ]
  },
  {
   "cell_type": "code",
   "execution_count": null,
   "id": "21acc2df",
   "metadata": {},
   "outputs": [],
   "source": [
    "# Option 1: Using pandas json_normalize (most elegant for this case)\n",
    "import pandas as pd\n",
    "\n",
    "def locations_pandas():\n",
    "    r = requests.get(f\"{base_url}/locations\", headers=headers)\n",
    "    r.raise_for_status()\n",
    "    data = r.json()\n",
    "\n",
    "    # Flatten the nested JSON structure\n",
    "    df = pd.json_normalize(data['features'])\n",
    "    # Create dict from id and coordinates columns\n",
    "    return dict(zip(df['id'], df['geometry.coordinates']))\n",
    "\n",
    "# Test the pandas version\n",
    "stations_pandas = locations_pandas()\n",
    "pprint(dict(list(stations_pandas.items())[:3]))  # Show first 3 items"
   ]
  }
 ],
 "metadata": {
  "kernelspec": {
   "display_name": "knmi_app",
   "language": "python",
   "name": "python3"
  },
  "language_info": {
   "codemirror_mode": {
    "name": "ipython",
    "version": 3
   },
   "file_extension": ".py",
   "mimetype": "text/x-python",
   "name": "python",
   "nbconvert_exporter": "python",
   "pygments_lexer": "ipython3",
   "version": "3.11.13"
  }
 },
 "nbformat": 4,
 "nbformat_minor": 5
}
