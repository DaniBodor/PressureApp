{
 "cells": [
  {
   "cell_type": "code",
   "execution_count": null,
   "id": "4de4aaf3",
   "metadata": {},
   "outputs": [],
   "source": [
    "import datetime\n",
    "import knmi\n",
    "from geopy.geocoders import Nominatim\n",
    "from geopy.distance import geodesic\n",
    "from knmi.metadata import Station\n",
    "\n",
    "STATIONS = knmi.stations\n",
    "\n",
    "def get_time():\n",
    "    #TODO: hourly data isn't up to date enough, go for exactly 1 day ago instead.\n",
    "    now = datetime.datetime.now()\n",
    "    yesterday = now - datetime.timedelta(days=1)\n",
    "    return yesterday.strftime(\"%Y%m%d%H\") # formatted as YYYYMMDDHH\n",
    "\n",
    "def get_location(input_city):\n",
    "    coordinates = _get_input_coordinates(input_city)\n",
    "    nearest_station, min_distance = _get_nearest_station(coordinates)\n",
    "    return nearest_station, min_distance\n",
    "\n",
    "def _get_input_coordinates(city_name):\n",
    "    geolocator = Nominatim(user_agent=\"knmi_city_lookup\")\n",
    "    location = geolocator.geocode(city_name, featuretype=\"city\")\n",
    "    if not location:\n",
    "        raise ValueError(f\"Could not find coordinates for city: {city_name}\")\n",
    "    location = geolocator.geocode(city_name, country_codes=\"nl\", featuretype=\"city\")\n",
    "    if not location:\n",
    "        raise ValueError(f\"The city of {city_name} is not in the Netherlands.\")\n",
    "    return location.latitude, location.longitude\n",
    "\n",
    "\n",
    "def _get_nearest_station(city_coords):\n",
    "    min_distance = float(\"inf\")\n",
    "    nearest_station = None\n",
    "\n",
    "    for station in STATIONS.values():\n",
    "        station_coords = (station.latitude, station.longitude)\n",
    "        distance = geodesic(city_coords, station_coords).kilometers\n",
    "        if distance < min_distance:\n",
    "            min_distance = distance\n",
    "            nearest_station = station\n",
    "\n",
    "    return nearest_station, min_distance"
   ]
  },
  {
   "cell_type": "code",
   "execution_count": null,
   "id": "c42223ab",
   "metadata": {},
   "outputs": [],
   "source": [
    "\n",
    "\n",
    "def get_pressure(station: Station, time: datetime.datetime):\n",
    "    time = time.strftime(\"%Y%m%d%H\")\n",
    "    pressure_df = knmi.get_hour_data_dataframe(\n",
    "        stations=[station.number],\n",
    "        start=time,\n",
    "        end=time,\n",
    "        variables=[\"P\"],\n",
    "    )\n",
    "    return pressure_df[\"P\"].values[0]\n"
   ]
  },
  {
   "cell_type": "code",
   "execution_count": null,
   "id": "ba408699",
   "metadata": {},
   "outputs": [],
   "source": [
    "input_city = \"Utrecht\"\n",
    "# current_time = get_time()\n",
    "\n",
    "now = datetime.datetime.now()\n",
    "yesterday = now - datetime.timedelta(days=1)\n",
    "lastweek = now - datetime.timedelta(days=7)\n",
    "\n",
    "try:\n",
    "    nearest_station, distance = get_location(input_city)\n",
    "    print(f\"Nearest weather station to {input_city}: {nearest_station.name} ({nearest_station.number})\")\n",
    "    print(f\"Distance: {distance:.2f} km\")\n",
    "\n",
    "    pressure = get_pressure(nearest_station, lastweek)\n",
    "    print(f\"Pressure on {lastweek.strftime('%Y-%m-%d %H:00')}: {pressure} hPa\")\n",
    "except ValueError as e:\n",
    "    print(e)\n"
   ]
  },
  {
   "cell_type": "code",
   "execution_count": null,
   "id": "3f0ca299",
   "metadata": {},
   "outputs": [],
   "source": [
    "type(now)"
   ]
  },
  {
   "cell_type": "code",
   "execution_count": null,
   "id": "9bd85cdc",
   "metadata": {},
   "outputs": [],
   "source": [
    "_get_input_coordinates(\"test\")"
   ]
  },
  {
   "cell_type": "code",
   "execution_count": null,
   "id": "f81e1e5b",
   "metadata": {},
   "outputs": [],
   "source": []
  },
  {
   "cell_type": "code",
   "execution_count": null,
   "id": "eec02f83",
   "metadata": {},
   "outputs": [],
   "source": []
  }
 ],
 "metadata": {
  "kernelspec": {
   "display_name": "knmi_app",
   "language": "python",
   "name": "python3"
  },
  "language_info": {
   "codemirror_mode": {
    "name": "ipython",
    "version": 3
   },
   "file_extension": ".py",
   "mimetype": "text/x-python",
   "name": "python",
   "nbconvert_exporter": "python",
   "pygments_lexer": "ipython3",
   "version": "3.11.13"
  }
 },
 "nbformat": 4,
 "nbformat_minor": 5
}
