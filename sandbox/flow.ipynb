{
 "cells": [
  {
   "cell_type": "code",
   "execution_count": 16,
   "id": "4de4aaf3",
   "metadata": {},
   "outputs": [],
   "source": [
    "import datetime\n",
    "import knmi\n",
    "from geopy.geocoders import Nominatim\n",
    "from geopy.distance import geodesic\n",
    "from knmi.metadata import Station\n",
    "\n",
    "STATIONS = knmi.stations\n",
    "\n",
    "def get_time():\n",
    "    current_time = datetime.datetime.now()\n",
    "    return current_time.strftime(\"%Y%m%d%H\") # formatted as YYYYMMDDHH\n",
    "\n",
    "def get_location(input_city):\n",
    "    coordinates = _get_input_coordinates(input_city)\n",
    "    nearest_station, min_distance = _get_nearest_station(coordinates)\n",
    "    return nearest_station, min_distance\n",
    "\n",
    "def _get_input_coordinates(city_name):\n",
    "    geolocator = Nominatim(user_agent=\"knmi_city_lookup\")\n",
    "    location = geolocator.geocode(city_name, featuretype=\"city\")\n",
    "    if not location:\n",
    "        raise ValueError(f\"Could not find coordinates for city: {city_name}\")\n",
    "    location = geolocator.geocode(city_name, country_codes=\"nl\", featuretype=\"city\")\n",
    "    if not location:\n",
    "        raise ValueError(f\"The city of {city_name} is not in the Netherlands.\")\n",
    "    return location.latitude, location.longitude\n",
    "\n",
    "\n",
    "def _get_nearest_station(city_coords):\n",
    "    min_distance = float(\"inf\")\n",
    "    nearest_station = None\n",
    "\n",
    "    for station in STATIONS.values():\n",
    "        station_coords = (station.latitude, station.longitude)\n",
    "        distance = geodesic(city_coords, station_coords).kilometers\n",
    "        if distance < min_distance:\n",
    "            min_distance = distance\n",
    "            nearest_station = station\n",
    "\n",
    "    return nearest_station, min_distance"
   ]
  },
  {
   "cell_type": "code",
   "execution_count": null,
   "id": "c42223ab",
   "metadata": {},
   "outputs": [],
   "source": [
    "\n",
    "from edr_pydantic.collections import Collection\n",
    "# Use Collection model to interpret collection metadata\n",
    "\n",
    "\n",
    "def get_pressure(station: Station, current_time: str):\n",
    "    pressure_df = knmi.get_hour_data_dataframe(\n",
    "        stations=[station.number],\n",
    "        start=current_time,\n",
    "        end=current_time,\n",
    "        variables=[\"P\"],\n",
    "    )\n",
    "    return pressure_df[\"P\"].values[0]\n"
   ]
  },
  {
   "cell_type": "code",
   "execution_count": null,
   "id": "ba408699",
   "metadata": {},
   "outputs": [
    {
     "name": "stdout",
     "output_type": "stream",
     "text": [
      "Nearest station to Utrecht: DE BILT (260)\n",
      "Distance: 4.14 km\n"
     ]
    },
    {
     "ename": "IndexError",
     "evalue": "index 0 is out of bounds for axis 0 with size 0",
     "output_type": "error",
     "traceback": [
      "\u001b[31m---------------------------------------------------------------------------\u001b[39m",
      "\u001b[31mIndexError\u001b[39m                                Traceback (most recent call last)",
      "\u001b[36mCell\u001b[39m\u001b[36m \u001b[39m\u001b[32mIn[15]\u001b[39m\u001b[32m, line 9\u001b[39m\n\u001b[32m      6\u001b[39m     \u001b[38;5;28mprint\u001b[39m(\u001b[33mf\u001b[39m\u001b[33m\"\u001b[39m\u001b[33mNearest station to \u001b[39m\u001b[38;5;132;01m{\u001b[39;00minput_city\u001b[38;5;132;01m}\u001b[39;00m\u001b[33m: \u001b[39m\u001b[38;5;132;01m{\u001b[39;00mnearest_station.name\u001b[38;5;132;01m}\u001b[39;00m\u001b[33m (\u001b[39m\u001b[38;5;132;01m{\u001b[39;00mnearest_station.number\u001b[38;5;132;01m}\u001b[39;00m\u001b[33m)\u001b[39m\u001b[33m\"\u001b[39m)\n\u001b[32m      7\u001b[39m     \u001b[38;5;28mprint\u001b[39m(\u001b[33mf\u001b[39m\u001b[33m\"\u001b[39m\u001b[33mDistance: \u001b[39m\u001b[38;5;132;01m{\u001b[39;00mdistance\u001b[38;5;132;01m:\u001b[39;00m\u001b[33m.2f\u001b[39m\u001b[38;5;132;01m}\u001b[39;00m\u001b[33m km\u001b[39m\u001b[33m\"\u001b[39m)\n\u001b[32m----> \u001b[39m\u001b[32m9\u001b[39m     pressure = \u001b[43mget_pressure\u001b[49m\u001b[43m(\u001b[49m\u001b[43mnearest_station\u001b[49m\u001b[43m,\u001b[49m\u001b[43m \u001b[49m\u001b[43mcurrent_time\u001b[49m\u001b[43m)\u001b[49m\n\u001b[32m     10\u001b[39m     \u001b[38;5;28mprint\u001b[39m(pressure)\n\u001b[32m     11\u001b[39m \u001b[38;5;28;01mexcept\u001b[39;00m \u001b[38;5;167;01mValueError\u001b[39;00m \u001b[38;5;28;01mas\u001b[39;00m e:\n",
      "\u001b[36mCell\u001b[39m\u001b[36m \u001b[39m\u001b[32mIn[14]\u001b[39m\u001b[32m, line 25\u001b[39m, in \u001b[36mget_pressure\u001b[39m\u001b[34m(station, current_time)\u001b[39m\n\u001b[32m     18\u001b[39m \u001b[38;5;28;01mdef\u001b[39;00m\u001b[38;5;250m \u001b[39m\u001b[34mget_pressure\u001b[39m(station: Station, current_time: \u001b[38;5;28mstr\u001b[39m):\n\u001b[32m     19\u001b[39m     pressure_df = knmi.get_hour_data_dataframe(\n\u001b[32m     20\u001b[39m         stations=[station.number],\n\u001b[32m     21\u001b[39m         start=current_time,\n\u001b[32m     22\u001b[39m         end=current_time,\n\u001b[32m     23\u001b[39m         variables=[\u001b[33m\"\u001b[39m\u001b[33mP\u001b[39m\u001b[33m\"\u001b[39m],\n\u001b[32m     24\u001b[39m     )\n\u001b[32m---> \u001b[39m\u001b[32m25\u001b[39m     \u001b[38;5;28;01mreturn\u001b[39;00m \u001b[43mpressure_df\u001b[49m\u001b[43m[\u001b[49m\u001b[33;43m\"\u001b[39;49m\u001b[33;43mP\u001b[39;49m\u001b[33;43m\"\u001b[39;49m\u001b[43m]\u001b[49m\u001b[43m.\u001b[49m\u001b[43mvalues\u001b[49m\u001b[43m[\u001b[49m\u001b[32;43m0\u001b[39;49m\u001b[43m]\u001b[49m\n",
      "\u001b[31mIndexError\u001b[39m: index 0 is out of bounds for axis 0 with size 0"
     ]
    }
   ],
   "source": [
    "input_city = \"Utrecht\"\n",
    "current_time = get_time()\n",
    "\n",
    "try:\n",
    "    nearest_station, distance = get_location(input_city)\n",
    "    print(f\"Nearest station to {input_city}: {nearest_station.name} ({nearest_station.number})\")\n",
    "    print(f\"Distance: {distance:.2f} km\")\n",
    "\n",
    "    pressure = get_pressure(nearest_station, current_time)\n",
    "    print(pressure)\n",
    "except ValueError as e:\n",
    "    print(e)\n"
   ]
  },
  {
   "cell_type": "code",
   "execution_count": null,
   "id": "9bd85cdc",
   "metadata": {},
   "outputs": [],
   "source": [
    "_get_input_coordinates(\"test\")"
   ]
  },
  {
   "cell_type": "code",
   "execution_count": null,
   "id": "f81e1e5b",
   "metadata": {},
   "outputs": [],
   "source": []
  },
  {
   "cell_type": "code",
   "execution_count": null,
   "id": "eec02f83",
   "metadata": {},
   "outputs": [],
   "source": []
  }
 ],
 "metadata": {
  "kernelspec": {
   "display_name": "knmi_app",
   "language": "python",
   "name": "python3"
  },
  "language_info": {
   "codemirror_mode": {
    "name": "ipython",
    "version": 3
   },
   "file_extension": ".py",
   "mimetype": "text/x-python",
   "name": "python",
   "nbconvert_exporter": "python",
   "pygments_lexer": "ipython3",
   "version": "3.11.13"
  }
 },
 "nbformat": 4,
 "nbformat_minor": 5
}
