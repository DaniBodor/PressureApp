{
 "cells": [
  {
   "cell_type": "code",
   "execution_count": null,
   "id": "16197727",
   "metadata": {},
   "outputs": [],
   "source": [
    "import requests\n",
    "from edr_pydantic.collections import Collection\n",
    "# from edr_pydantic.features import FeatureCollection\n",
    "from datetime import datetime"
   ]
  },
  {
   "cell_type": "code",
   "execution_count": null,
   "id": "b296bc0a",
   "metadata": {},
   "outputs": [],
   "source": [
    "API_KEY = \"eyJvcmciOiI1ZTU1NGUxOTI3NGE5NjAwMDEyYTNlYjEiLCJpZCI6IjdiYjVkMjVlMjhmMDQ0ZmQ5ZGZiYmFiMDI5YmIzMGU3IiwiaCI6Im11cm11cjEyOCJ9\"\n",
    "BASE = \"https://api.dataplatform.knmi.nl/edr/v1\"\n",
    "COLLECTION_ID = \"10-minute-in-situ-meteorological-observations\"\n"
   ]
  },
  {
   "cell_type": "code",
   "execution_count": null,
   "id": "65d9a162",
   "metadata": {},
   "outputs": [],
   "source": [
    "headers = {\n",
    "    \"Authorization\": API_KEY\n",
    "}"
   ]
  },
  {
   "cell_type": "code",
   "execution_count": null,
   "id": "54028a25",
   "metadata": {},
   "outputs": [],
   "source": [
    "params = {\n",
    "    \"parameter-name\": \"air_temperature,air_pressure_at_sea_level\",\n",
    "    \"crs\": \"EPSG:4326\"\n",
    "}"
   ]
  },
  {
   "cell_type": "code",
   "execution_count": null,
   "id": "8e8646c4",
   "metadata": {},
   "outputs": [],
   "source": [
    "response = requests.get(\n",
    "    f\"{BASE}/collections/{COLLECTION_ID}/position\",\n",
    "    headers=headers,\n",
    "    params=params\n",
    ")\n",
    "\n",
    "response"
   ]
  },
  {
   "cell_type": "code",
   "execution_count": null,
   "id": "050c4f45",
   "metadata": {},
   "outputs": [],
   "source": [
    "col_resp = requests.get(\n",
    "    f\"{BASE}/collections/{COLLECTION_ID}\",\n",
    "    headers={\"Authorization\": API_KEY},\n",
    "    params=\"parameter-name\": \"air_temperature,air_pressure_at_sea_level\",,\n",
    ")\n",
    "\n",
    "\n",
    "col_resp"
   ]
  }
 ],
 "metadata": {
  "kernelspec": {
   "display_name": "knmi_app",
   "language": "python",
   "name": "python3"
  },
  "language_info": {
   "codemirror_mode": {
    "name": "ipython",
    "version": 3
   },
   "file_extension": ".py",
   "mimetype": "text/x-python",
   "name": "python",
   "nbconvert_exporter": "python",
   "pygments_lexer": "ipython3",
   "version": "3.11.13"
  }
 },
 "nbformat": 4,
 "nbformat_minor": 5
}
